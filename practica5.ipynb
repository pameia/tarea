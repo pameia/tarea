{
  "nbformat": 4,
  "nbformat_minor": 0,
  "metadata": {
    "colab": {
      "provenance": [],
      "authorship_tag": "ABX9TyMgYftreF8rYFE+CnACLQF8",
      "include_colab_link": true
    },
    "kernelspec": {
      "name": "python3",
      "display_name": "Python 3"
    },
    "language_info": {
      "name": "python"
    }
  },
  "cells": [
    {
      "cell_type": "markdown",
      "metadata": {
        "id": "view-in-github",
        "colab_type": "text"
      },
      "source": [
        "<a href=\"https://colab.research.google.com/github/pameia/tarea/blob/main/practica5.ipynb\" target=\"_parent\"><img src=\"https://colab.research.google.com/assets/colab-badge.svg\" alt=\"Open In Colab\"/></a>"
      ]
    },
    {
      "cell_type": "code",
      "execution_count": 1,
      "metadata": {
        "colab": {
          "base_uri": "https://localhost:8080/"
        },
        "id": "XdH-Xg1a0TEH",
        "outputId": "72a4da66-ad26-4276-ce37-40f4ea7040eb"
      },
      "outputs": [
        {
          "output_type": "stream",
          "name": "stdout",
          "text": [
            "Python 3.10.12\n"
          ]
        }
      ],
      "source": [
        "!python --version"
      ]
    },
    {
      "cell_type": "code",
      "source": [
        "import numpy as np\n",
        "novio=np.array([3,33,333])\n",
        "print(novio)\n",
        "print(novio.shape)"
      ],
      "metadata": {
        "colab": {
          "base_uri": "https://localhost:8080/"
        },
        "id": "n8h5Rx3j2Nht",
        "outputId": "a6e4b069-59fc-4c25-8468-8521a14f8af2"
      },
      "execution_count": 12,
      "outputs": [
        {
          "output_type": "stream",
          "name": "stdout",
          "text": [
            "[  3  33 333]\n",
            "(3,)\n"
          ]
        }
      ]
    },
    {
      "cell_type": "code",
      "source": [
        "b=np.zeros((4,6))\n",
        "b\n",
        "print(b.shape)\n",
        "print(b)\n",
        "b[3,3]=120\n",
        "print(b)\n",
        "print(b[:,[2,3]]) #cmbiar columna\n",
        "print(b[:,[3,2]])"
      ],
      "metadata": {
        "colab": {
          "base_uri": "https://localhost:8080/"
        },
        "id": "37bJw-jC2wXG",
        "outputId": "0cffc17a-0942-4904-ba28-734c253b40e2"
      },
      "execution_count": 19,
      "outputs": [
        {
          "output_type": "stream",
          "name": "stdout",
          "text": [
            "(4, 6)\n",
            "[[0. 0. 0. 0. 0. 0.]\n",
            " [0. 0. 0. 0. 0. 0.]\n",
            " [0. 0. 0. 0. 0. 0.]\n",
            " [0. 0. 0. 0. 0. 0.]]\n",
            "[[  0.   0.   0.   0.   0.   0.]\n",
            " [  0.   0.   0.   0.   0.   0.]\n",
            " [  0.   0.   0.   0.   0.   0.]\n",
            " [  0.   0.   0. 120.   0.   0.]]\n",
            "[[  0.   0.]\n",
            " [  0.   0.]\n",
            " [  0.   0.]\n",
            " [  0. 120.]]\n",
            "[[  0.   0.]\n",
            " [  0.   0.]\n",
            " [  0.   0.]\n",
            " [120.   0.]]\n"
          ]
        }
      ]
    },
    {
      "cell_type": "code",
      "source": [
        "c=np.random.randint(low=4,high=12,size=(2,2))\n",
        "d=np.random.randint(low=1,high=8,size=(2,2))\n"
      ],
      "metadata": {
        "id": "mLyqcQK94cCr"
      },
      "execution_count": 37,
      "outputs": []
    },
    {
      "cell_type": "code",
      "source": [
        "c"
      ],
      "metadata": {
        "colab": {
          "base_uri": "https://localhost:8080/"
        },
        "id": "FM7zW6z45AbD",
        "outputId": "5c52c6d4-9a43-4346-d046-8e67d6d75a01"
      },
      "execution_count": 24,
      "outputs": [
        {
          "output_type": "execute_result",
          "data": {
            "text/plain": [
              "array([[ 9,  5,  9,  5,  5],\n",
              "       [ 4,  4,  8,  5, 11],\n",
              "       [ 9,  9,  5,  4, 10],\n",
              "       [ 5,  5,  4,  6,  6]])"
            ]
          },
          "metadata": {},
          "execution_count": 24
        }
      ]
    },
    {
      "cell_type": "code",
      "source": [
        "d"
      ],
      "metadata": {
        "colab": {
          "base_uri": "https://localhost:8080/"
        },
        "id": "J4UR4abn5Bc6",
        "outputId": "00a234c9-bc10-419e-d7a3-d40cec92bbce"
      },
      "execution_count": 25,
      "outputs": [
        {
          "output_type": "execute_result",
          "data": {
            "text/plain": [
              "array([[1, 5],\n",
              "       [1, 5]])"
            ]
          },
          "metadata": {},
          "execution_count": 25
        }
      ]
    },
    {
      "cell_type": "code",
      "source": [
        "aux=np.vstack((c,d))\n",
        "print(aux)"
      ],
      "metadata": {
        "colab": {
          "base_uri": "https://localhost:8080/"
        },
        "id": "V72tA5PK5Dti",
        "outputId": "dac0754f-3ea2-4492-f0bb-5d6b94599305"
      },
      "execution_count": 38,
      "outputs": [
        {
          "output_type": "stream",
          "name": "stdout",
          "text": [
            "[[ 6 11]\n",
            " [11  4]\n",
            " [ 1  5]\n",
            " [ 5  3]]\n"
          ]
        }
      ]
    },
    {
      "cell_type": "code",
      "source": [
        "aux=np.hstack((c,d))\n",
        "print(aux)"
      ],
      "metadata": {
        "colab": {
          "base_uri": "https://localhost:8080/"
        },
        "id": "vVAbGMOe588T",
        "outputId": "54602a3f-93e8-4542-c7ee-e341d24d735d"
      },
      "execution_count": 39,
      "outputs": [
        {
          "output_type": "stream",
          "name": "stdout",
          "text": [
            "[[ 6 11  1  5]\n",
            " [11  4  5  3]]\n"
          ]
        }
      ]
    },
    {
      "cell_type": "code",
      "source": [],
      "metadata": {
        "id": "uDME67H_6usC"
      },
      "execution_count": null,
      "outputs": []
    }
  ]
}