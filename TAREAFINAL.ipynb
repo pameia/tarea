{
  "nbformat": 4,
  "nbformat_minor": 0,
  "metadata": {
    "colab": {
      "provenance": [],
      "authorship_tag": "ABX9TyPrNQPMAxJTKn0YZLLR3Csm",
      "include_colab_link": true
    },
    "kernelspec": {
      "name": "python3",
      "display_name": "Python 3"
    },
    "language_info": {
      "name": "python"
    }
  },
  "cells": [
    {
      "cell_type": "markdown",
      "metadata": {
        "id": "view-in-github",
        "colab_type": "text"
      },
      "source": [
        "<a href=\"https://colab.research.google.com/github/pameia/tarea/blob/main/TAREAFINAL.ipynb\" target=\"_parent\"><img src=\"https://colab.research.google.com/assets/colab-badge.svg\" alt=\"Open In Colab\"/></a>"
      ]
    },
    {
      "cell_type": "markdown",
      "source": [
        "tarea"
      ],
      "metadata": {
        "id": "MDetrsbUmHoA"
      }
    },
    {
      "cell_type": "code",
      "source": [
        "import numpy as np\n",
        "\n",
        "print(\"NumPy version:\", np.version.version)\n",
        "\n",
        "pass"
      ],
      "metadata": {
        "colab": {
          "base_uri": "https://localhost:8080/"
        },
        "id": "oiMsYvUsmJ5E",
        "outputId": "cf00b981-25ed-4559-bfad-d5180bb6507d"
      },
      "execution_count": null,
      "outputs": [
        {
          "output_type": "stream",
          "name": "stdout",
          "text": [
            "NumPy version: 1.22.4\n"
          ]
        }
      ]
    },
    {
      "cell_type": "code",
      "source": [
        "#Create a 1D array of numbers from 0 to 9\n",
        "\n",
        "arr = np.arange(10)\n",
        "print(arr)\n",
        "pass"
      ],
      "metadata": {
        "colab": {
          "base_uri": "https://localhost:8080/"
        },
        "id": "Ft-rCW2CmWM1",
        "outputId": "de304bbe-36ed-41f2-8437-d80d456b39fa"
      },
      "execution_count": null,
      "outputs": [
        {
          "output_type": "stream",
          "name": "stdout",
          "text": [
            "[0 1 2 3 4 5 6 7 8 9]\n"
          ]
        }
      ]
    },
    {
      "cell_type": "code",
      "source": [
        "#Create a 3×3 numpy array of all True’s\n",
        "import numpy as np\n",
        "\n",
        "arra = np.ones((3, 3), dtype=int)\n",
        "arra = arr.astype(bool)\n",
        "print(arr)\n",
        "pass"
      ],
      "metadata": {
        "colab": {
          "base_uri": "https://localhost:8080/"
        },
        "id": "Wg9YbEemmY0z",
        "outputId": "d0f09d1c-9777-4360-f0f8-a40cb2cd5ee7"
      },
      "execution_count": 7,
      "outputs": [
        {
          "output_type": "stream",
          "name": "stdout",
          "text": [
            "[[ True  True  True]\n",
            " [ True  True  True]\n",
            " [ True  True  True]]\n"
          ]
        }
      ]
    },
    {
      "cell_type": "code",
      "source": [
        "#Extract all odd numbers from arr\n",
        "matriz = [[random.randint(1, 10) for j in range(3)] for i in range(3)]\n",
        "print(\"Matriz de números aleatorios:\")\n",
        "for fila in matriz:\n",
        "    print(fila)\n",
        "# Extraer los números impares de la matriz\n",
        "impares = []\n",
        "for fila in matriz:\n",
        "    for num in fila:\n",
        "        if num % 2 != 0:\n",
        "            impares.append(num)\n",
        "print(\"Números impares:\", impares)\n",
        "\n",
        "pass"
      ],
      "metadata": {
        "id": "Uc7r5slOmawS",
        "colab": {
          "base_uri": "https://localhost:8080/"
        },
        "outputId": "5c4fda84-89d6-4056-d4d1-0750c49f83d0"
      },
      "execution_count": 38,
      "outputs": [
        {
          "output_type": "stream",
          "name": "stdout",
          "text": [
            "Matriz de números aleatorios:\n",
            "[8, 5, 8]\n",
            "[4, 4, 1]\n",
            "[8, 3, 1]\n",
            "Números impares: [5, 1, 3, 1]\n"
          ]
        }
      ]
    },
    {
      "cell_type": "code",
      "source": [
        "#Replace all odd numbers in arr with -1\n",
        "import random\n",
        "\n",
        "# Crear una matriz de 3x3 con números aleatorios entre 1 y 10\n",
        "matriz = [[random.randint(1, 10) for j in range(3)] for i in range(3)]\n",
        "print(\"Matriz de números aleatorios:\")\n",
        "for fila in matriz:\n",
        "    print(fila)\n",
        "\n",
        "# Extraer los números impares de la matriz y reemplazarlos por -1\n",
        "for i in range(len(matriz)):\n",
        "    for j in range(len(matriz[i])):\n",
        "        if matriz[i][j] % 2 != 0:\n",
        "            matriz[i][j] = -1\n",
        "\n",
        "print(\"Matriz con números impares reemplazados por -1:\")\n",
        "for fila in matriz:\n",
        "    print(fila)\n",
        "pass"
      ],
      "metadata": {
        "id": "oy6X-huimcw6",
        "colab": {
          "base_uri": "https://localhost:8080/"
        },
        "outputId": "5ef655b6-5bc0-46e2-f242-a050e54eee9c"
      },
      "execution_count": 40,
      "outputs": [
        {
          "output_type": "stream",
          "name": "stdout",
          "text": [
            "Matriz de números aleatorios:\n",
            "[2, 9, 5]\n",
            "[7, 3, 1]\n",
            "[7, 7, 2]\n",
            "Matriz con números impares reemplazados por -1:\n",
            "[2, -1, -1]\n",
            "[-1, -1, -1]\n",
            "[-1, -1, 2]\n"
          ]
        }
      ]
    },
    {
      "cell_type": "code",
      "source": [
        "#Convert a 1D array to a 2D array with 2 rows\n",
        "arr = np.arange(10)\n",
        "print(arr)\n",
        "arr = arr.reshape(2, 5)\n",
        "print(arr)\n",
        "pass"
      ],
      "metadata": {
        "id": "avKHaDEymesb",
        "colab": {
          "base_uri": "https://localhost:8080/"
        },
        "outputId": "1dd96b09-5f0c-4b6a-844a-3f5594222fdb"
      },
      "execution_count": 47,
      "outputs": [
        {
          "output_type": "stream",
          "name": "stdout",
          "text": [
            "[0 1 2 3 4 5 6 7 8 9]\n",
            "[[0 1 2 3 4]\n",
            " [5 6 7 8 9]]\n"
          ]
        }
      ]
    },
    {
      "cell_type": "code",
      "source": [
        "#Stack arrays a and b vertically\n",
        "import numpy as np\n",
        "a = np.random.randint(1, 10, size=(3, 3))\n",
        "b = np.random.randint(1, 10, size=(3, 3))\n",
        "\n",
        "print(\"Matriz a:\")\n",
        "print(a)\n",
        "print(\"Matriz b:\")\n",
        "print(b)\n",
        "\n",
        "# Apilar verticalmente las dos matrices\n",
        "c = np.vstack((a, b))\n",
        "\n",
        "print(\"Matriz c:\")\n",
        "print(c)\n",
        "print('----')\n",
        "c=np.random.randint(low=4,high=12,size=(2,2))\n",
        "d=np.random.randint(low=1,high=8,size=(2,2))\n",
        "aux=np.vstack((c,d))\n",
        "print(aux)\n",
        "pass"
      ],
      "metadata": {
        "id": "H36RE1olmiAq",
        "colab": {
          "base_uri": "https://localhost:8080/"
        },
        "outputId": "49b662e1-d74f-4c95-90a0-45b37d3a16c7"
      },
      "execution_count": 54,
      "outputs": [
        {
          "output_type": "stream",
          "name": "stdout",
          "text": [
            "Matriz a:\n",
            "[[5 1 2]\n",
            " [1 4 9]\n",
            " [1 5 8]]\n",
            "Matriz b:\n",
            "[[4 3 6]\n",
            " [8 6 9]\n",
            " [2 7 3]]\n",
            "Matriz c:\n",
            "[[5 1 2]\n",
            " [1 4 9]\n",
            " [1 5 8]\n",
            " [4 3 6]\n",
            " [8 6 9]\n",
            " [2 7 3]]\n",
            "----\n",
            "[[ 4  7]\n",
            " [10  4]\n",
            " [ 5  1]\n",
            " [ 3  2]]\n"
          ]
        }
      ]
    },
    {
      "cell_type": "code",
      "source": [
        "#Stack the arrays a and b horizontally\n",
        "aux=np.hstack((c,d))\n",
        "print(aux)\n",
        "pass"
      ],
      "metadata": {
        "id": "KdsTr_KnmmFb",
        "colab": {
          "base_uri": "https://localhost:8080/"
        },
        "outputId": "20039a8f-b53d-4b21-d09c-94779cab5242"
      },
      "execution_count": 56,
      "outputs": [
        {
          "output_type": "stream",
          "name": "stdout",
          "text": [
            "[[ 4  7  5  1]\n",
            " [10  4  3  2]]\n"
          ]
        }
      ]
    },
    {
      "cell_type": "code",
      "source": [
        "#Get all items between 5 and 10 from a\n",
        "import numpy as np\n",
        "arr = np.arange(10)\n",
        "# Get all items between 5 and 10\n",
        "result = arr[arr >= 5]\n",
        "print(result)\n",
        "pass"
      ],
      "metadata": {
        "id": "O9ZNOOO6mo6K",
        "colab": {
          "base_uri": "https://localhost:8080/"
        },
        "outputId": "bba2896c-a476-43ba-957d-2aeaab29009f"
      },
      "execution_count": 71,
      "outputs": [
        {
          "output_type": "stream",
          "name": "stdout",
          "text": [
            "[5 6 7 8 9]\n"
          ]
        }
      ]
    },
    {
      "cell_type": "code",
      "source": [
        " #How to make a python function that handles scalars to work on numpy arrays\n",
        " # Hint\n",
        "# Desired Output:\n",
        "# a = np.array([5, 7, 9, 8, 6, 4, 5])\n",
        "# b = np.array([6, 3, 4, 8, 9, 7, 1])\n",
        "# #> array([ 6.,  7.,  9.,  8.,  9.,  7.,  5.])\n",
        "import numpy as np\n",
        "\n",
        "def maxx(x, y):\n",
        "    \"\"\"Get the maximum of two items\"\"\"\n",
        "    if x >= y:\n",
        "        return x\n",
        "    else:\n",
        "        return y\n",
        "a = np.array([5, 7, 9, 8, 6, 4, 5])\n",
        "b = np.array([6, 3, 4, 8, 9, 7, 1])\n",
        "#maxx(a, b)\n",
        "tmp=list()\n",
        "for i in range(7):\n",
        "  tmp.append(maxx(a[i],b[i]))\n",
        "print(tmp)\n",
        "\n"
      ],
      "metadata": {
        "colab": {
          "base_uri": "https://localhost:8080/"
        },
        "id": "mI0CnOVCmuop",
        "outputId": "e8a871ef-7dd2-4bb5-f9ba-567efbec2d56"
      },
      "execution_count": null,
      "outputs": [
        {
          "output_type": "stream",
          "name": "stdout",
          "text": [
            "[6, 7, 9, 8, 9, 7, 5]\n"
          ]
        }
      ]
    },
    {
      "cell_type": "code",
      "source": [
        "#Swap columns 1 and 2 in the array arr\n",
        "# Hint\n",
        "# Desired Output:\n",
        "# [[0 2 1]\n",
        "#  [3 5 4]\n",
        "#  [6 8 7]]\n",
        "b=np.zeros((4,6))\n",
        "b\n",
        "print(b.shape)\n",
        "print(b)\n",
        "b[3,3]=120\n",
        "print (b)\n",
        "print(b[:,[2,3]])\n",
        "#print (b)\n",
        "\n",
        "#invertir\n",
        "print (b)\n",
        "print(b[:,[3,2]])\n",
        "#print (b)\n",
        "pass\n",
        " #[[0 1 2]\n",
        " #[3 4 5]\n",
        "# [6 7 8]]\n"
      ],
      "metadata": {
        "colab": {
          "base_uri": "https://localhost:8080/"
        },
        "id": "RbntAHbEm-2V",
        "outputId": "2f2e4cc2-8bfb-4b73-ee4a-f983fb2b8deb"
      },
      "execution_count": 73,
      "outputs": [
        {
          "output_type": "stream",
          "name": "stdout",
          "text": [
            "(4, 6)\n",
            "[[0. 0. 0. 0. 0. 0.]\n",
            " [0. 0. 0. 0. 0. 0.]\n",
            " [0. 0. 0. 0. 0. 0.]\n",
            " [0. 0. 0. 0. 0. 0.]]\n",
            "[[  0.   0.   0.   0.   0.   0.]\n",
            " [  0.   0.   0.   0.   0.   0.]\n",
            " [  0.   0.   0.   0.   0.   0.]\n",
            " [  0.   0.   0. 120.   0.   0.]]\n",
            "[[  0.   0.]\n",
            " [  0.   0.]\n",
            " [  0.   0.]\n",
            " [  0. 120.]]\n",
            "[[  0.   0.   0.   0.   0.   0.]\n",
            " [  0.   0.   0.   0.   0.   0.]\n",
            " [  0.   0.   0.   0.   0.   0.]\n",
            " [  0.   0.   0. 120.   0.   0.]]\n",
            "[[  0.   0.]\n",
            " [  0.   0.]\n",
            " [  0.   0.]\n",
            " [120.   0.]]\n"
          ]
        }
      ]
    },
    {
      "cell_type": "code",
      "source": [
        "#Create a 2D array of shape 5x3 to contain random decimal numbers between\n",
        "# Crear una matriz de 5x3 con números decimales aleatorios entre 5 y 10\n",
        "import numpy as np\n",
        "matriz = [[np.random.uniform(5, 10) for j in range(3)] for i in range(5)]\n",
        "print(\"Matriz de números decimales aleatorios:\")\n",
        "for fila in matriz:\n",
        "    print(fila)\n",
        "# The desired Output should be like the following one:\n",
        "#  [[ 8.50061025  9.10531502  6.85867783]\n",
        "#   [ 9.76262069  9.87717411  7.13466701]\n",
        "#   [ 7.48966403  8.33409158  6.16808631]\n",
        "#   [ 7.75010551  9.94535696  5.27373226]\n",
        "#   [ 8.0850361   5.56165518  7.31244004]]"
      ],
      "metadata": {
        "id": "kd3hjQIunGWj",
        "colab": {
          "base_uri": "https://localhost:8080/"
        },
        "outputId": "56e0d0ed-7572-4158-da61-4ff942eacb12"
      },
      "execution_count": 62,
      "outputs": [
        {
          "output_type": "stream",
          "name": "stdout",
          "text": [
            "Matriz de números decimales aleatorios:\n",
            "[5.973956457314156, 5.605135121486625, 5.5301381528738425]\n",
            "[9.570928602308985, 7.037870218065789, 9.25035792440579]\n",
            "[6.090030551295719, 6.534104244046872, 5.784993292100713]\n",
            "[6.607067003855336, 9.22191248939291, 7.243878289994963]\n",
            "[6.421807138315427, 9.312338358315328, 7.746698776723905]\n"
          ]
        }
      ]
    }
  ]
}